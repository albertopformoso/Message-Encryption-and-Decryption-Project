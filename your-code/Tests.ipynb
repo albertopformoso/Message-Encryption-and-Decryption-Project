{
 "cells": [
  {
   "cell_type": "code",
   "execution_count": 1,
   "metadata": {},
   "outputs": [],
   "source": [
    "carac_min = 'a,b,c,d,e,f,g,h,i,j,k,l,m,n,ñ,o,p,q,r,s,t,u,v,w,x,y,z,'"
   ]
  },
  {
   "cell_type": "code",
   "execution_count": 2,
   "metadata": {},
   "outputs": [],
   "source": [
    "carac_may = 'A,B,C,D,E,F,G,H,I,J,K,L,M,N,Ñ,O,P,Q,R,S,T,U,V,W,X,Y,Z,'"
   ]
  },
  {
   "cell_type": "code",
   "execution_count": 3,
   "metadata": {},
   "outputs": [],
   "source": [
    "carac_esp = '!,@,#,$,%,^,&,*,),(,-,_,+,=,'"
   ]
  },
  {
   "cell_type": "code",
   "execution_count": 4,
   "metadata": {},
   "outputs": [],
   "source": [
    "carac_num = '0,1,2,3,4,5,6,7,8,9,0,'"
   ]
  },
  {
   "cell_type": "code",
   "execution_count": 5,
   "metadata": {},
   "outputs": [
    {
     "name": "stdout",
     "output_type": "stream",
     "text": [
      "['a', 'b', 'c', 'd', 'e', 'f', 'g', 'h', 'i', 'j', 'k', 'l', 'm', 'n', 'ñ', 'o', 'p', 'q', 'r', 's', 't', 'u', 'v', 'w', 'x', 'y', 'z', 'A', 'B', 'C', 'D', 'E', 'F', 'G', 'H', 'I', 'J', 'K', 'L', 'M', 'N', 'Ñ', 'O', 'P', 'Q', 'R', 'S', 'T', 'U', 'V', 'W', 'X', 'Y', 'Z', '!', '@', '#', '$', '%', '^', '&', '*', ')', '(', '-', '_', '+', '=', '0', '1', '2', '3', '4', '5', '6', '7', '8', '9', '0', '']\n"
     ]
    }
   ],
   "source": [
    "caracteres = carac_min + carac_may + carac_esp + carac_num\n",
    "char_lst = caracteres.split(',')\n",
    "print(char_lst)"
   ]
  },
  {
   "cell_type": "code",
   "execution_count": 6,
   "metadata": {},
   "outputs": [
    {
     "name": "stdout",
     "output_type": "stream",
     "text": [
      "['l', ')', 'k', '4', '&', '#', '-', '0', 'L', '$', 'C', 't', '', '7', 'p', 'j', 'T', 'Q', '=', '3', 'x', '*', 'V', '+', 'h', 'y', 'E', 'K', 'g', '@', 'Ñ', '9', 'Y', 'P', 'B', 'w', '%', 'H', 'S', 'G', 'F', 'A', 's', '!', 'm', 'f', 'D', '^', 'N', 'u', 'X', '6', 'v', 'q', '(', 'M', '2', 'O', 'd', 'U', 'Z', '5', 'W', '_', 'a', 'i', 'J', 'e', 'ñ', 'r', 'c', 'R', '1', 'o', 'I', 'b', '8', 'z', '0', 'n']\n"
     ]
    }
   ],
   "source": [
    "import random\n",
    "random.shuffle(char_lst)\n",
    "print(char_lst)"
   ]
  },
  {
   "cell_type": "code",
   "execution_count": 7,
   "metadata": {},
   "outputs": [
    {
     "name": "stdout",
     "output_type": "stream",
     "text": [
      "l)k4&#-0L$Ct7pjTQ=3x*V+hyEKg@Ñ9YPBw%HSGFAs!mfD^NuX6vq(M2OdUZ5W_aiJeñrcR1oIb8z0n\n"
     ]
    }
   ],
   "source": [
    "codificacion = ''.join(char_lst)\n",
    "print(codificacion)"
   ]
  },
  {
   "cell_type": "code",
   "execution_count": 8,
   "metadata": {},
   "outputs": [],
   "source": [
    "texto = 'El día de hoy es un gran día porque hace mucho sol díaz'"
   ]
  },
  {
   "cell_type": "code",
   "execution_count": 9,
   "metadata": {},
   "outputs": [],
   "source": [
    "import re"
   ]
  },
  {
   "cell_type": "code",
   "execution_count": 10,
   "metadata": {},
   "outputs": [
    {
     "data": {
      "text/plain": [
       "[]"
      ]
     },
     "execution_count": 10,
     "metadata": {},
     "output_type": "execute_result"
    }
   ],
   "source": [
    "texto = '1'\n",
    "re.findall('[a-zA-Z\\s]',texto)"
   ]
  },
  {
   "cell_type": "code",
   "execution_count": 11,
   "metadata": {},
   "outputs": [],
   "source": [
    "try:\n",
    "    a = int(texto)\n",
    "\n",
    "except:\n",
    "    print('no se pudo joven')"
   ]
  },
  {
   "cell_type": "code",
   "execution_count": 12,
   "metadata": {},
   "outputs": [
    {
     "data": {
      "text/plain": [
       "True"
      ]
     },
     "execution_count": 12,
     "metadata": {},
     "output_type": "execute_result"
    }
   ],
   "source": [
    "isinstance(texto, str)"
   ]
  },
  {
   "cell_type": "code",
   "execution_count": null,
   "metadata": {},
   "outputs": [],
   "source": []
  },
  {
   "cell_type": "code",
   "execution_count": null,
   "metadata": {},
   "outputs": [],
   "source": []
  }
 ],
 "metadata": {
  "kernelspec": {
   "display_name": "Python 3",
   "language": "python",
   "name": "python3"
  },
  "language_info": {
   "codemirror_mode": {
    "name": "ipython",
    "version": 3
   },
   "file_extension": ".py",
   "mimetype": "text/x-python",
   "name": "python",
   "nbconvert_exporter": "python",
   "pygments_lexer": "ipython3",
   "version": "3.7.6"
  }
 },
 "nbformat": 4,
 "nbformat_minor": 4
}
